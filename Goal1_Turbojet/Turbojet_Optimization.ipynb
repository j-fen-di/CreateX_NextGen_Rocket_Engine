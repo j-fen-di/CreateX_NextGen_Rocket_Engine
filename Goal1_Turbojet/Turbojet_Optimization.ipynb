{
 "cells": [
  {
   "cell_type": "code",
   "execution_count": 7,
   "metadata": {},
   "outputs": [],
   "source": [
    "import numpy as np\n",
    "import pandas as pd\n",
    "\n",
    "'''This notebook uses a function that calculates thermodynamic relations for a turbojet, generates a potential solution space based on\n",
    "real-world values, and then uses numpy minimization and data cleaning techniques to find the ideal combination of compressor (stagnation)\n",
    "pressure ratio (Pr_c), fuel to air ratio for burner (f), and fuel to air ratio for afterburner (f_ab) to produce the minimum TSFC (thrust\n",
    "specific fuel consumption) while producing the minimum thrust required. For Dr. Vigor Yang's AE 4451 class at Georgia Tech - Fall 2022\n",
    "\n",
    "Note: Make sure to adjust create output file names in cells 'subsonic' or 'supersonic' based on operating flight conditions.\n",
    "\n",
    "Authors: Justin Effendi, Chuck Li, Avi Goel\n",
    "'''"
   ]
  },
  {
   "cell_type": "code",
   "execution_count": 70,
   "metadata": {},
   "outputs": [],
   "source": [
    "def turbojet_fun(Pr_c, f, f_ab):\n",
    "    # Turbojet equations for flight condition: low altitude subsonic cruise\n",
    "    # Requirements:\n",
    "    # ST > 380 N * s / kg\n",
    "    # TSFC minimized\n",
    "    # T_max_burner = 1300 K\n",
    "    # T_max_afterburner = 2200 K\n",
    "\n",
    "    # This is a function that calculates thermodynamic values/relations for a turbojet.\n",
    "    # Adjust T_a, P_a, and M for given flight condition.\n",
    "\n",
    "    # Given values (flight conditions)\n",
    "    T_a = 210 #K\n",
    "    P_a = 10000 #Pa\n",
    "    M = 2.6\n",
    "\n",
    "    gamma_a = 1.4\n",
    "    gamma_2 = 1.4\n",
    "    gamma_3 = 1.38\n",
    "    gamma_4 = 1.33\n",
    "    gamma_5 = 1.33\n",
    "    gamma_6 = 1.32\n",
    "    gamma_e = 1.35\n",
    "    eta_d = 0.92\n",
    "    eta_b = 0.99\n",
    "    eta_pc = 0.9 # Polytropic\n",
    "    eta_pump = 0.35\n",
    "    eta_pt = 0.92 # Polytropic\n",
    "    eta_ab = 0.96\n",
    "    eta_n = 0.95\n",
    "    Pr_b = 0.98\n",
    "    Pr_ab = 0.97\n",
    "    deltahr = 45E6 # J / kg\n",
    "    rho_f = 780\n",
    "    P_f1 = 104E3 # Pa\n",
    "    deltap_inj = 550E3 # Pa\n",
    "    RR = 8.314 # J / mol * K\n",
    "    MolMass = .0288 # kg / mol\n",
    "    R = RR / MolMass\n",
    "\n",
    "    # Flight speed, station a\n",
    "    u = M * np.sqrt(gamma_a * R * T_a)\n",
    "\n",
    "    # Diffuser outlet, station 2\n",
    "    if (M < 1):\n",
    "        r_d = 1\n",
    "    else:\n",
    "        r_d = 1 - 0.075 * np.power((M - 1), 1.35)\n",
    "    T_o2 = T_a * (1 + ((gamma_2 - 1) / 2) * np.power(M,  2))\n",
    "    P_o2 = P_a * r_d * np.power((1 + eta_d * ((gamma_2 - 1) / 2) * np.power(M, 2)), (gamma_2 / (gamma_2 - 1)))\n",
    "\n",
    "    # Compressor outlet, station 3\n",
    "    C_p3 = (gamma_3 * R) / (gamma_3 - 1)\n",
    "    T_o3 = T_o2 * np.power(Pr_c, (R / (C_p3 * eta_pc)))\n",
    "    P_o3 = Pr_c * P_o2\n",
    "    w_c = C_p3 * (T_o3 - T_o2)\n",
    "\n",
    "    # Burner outlet, station 4\n",
    "    P_o4 = P_o3 * Pr_b\n",
    "    C_p4 = (gamma_4 * R) / (gamma_4 - 1)\n",
    "    T_o4 =  (((f * eta_b * deltahr) / (C_p4 * T_o3)) + 1) / ((f + 1) / T_o3)\n",
    "\n",
    "    # Fuel pump\n",
    "    P_f2 = deltap_inj + P_o3\n",
    "    w_p = ((f + f_ab) * (P_f2 - P_f1)) / (eta_pump * rho_f)\n",
    "\n",
    "    # Turbine outlet, station 5\n",
    "    C_p5 = (gamma_5 * R) / (gamma_5 - 1)\n",
    "    T_o5 = T_o4 - (w_c + w_p) / ((1 + f) * C_p5)\n",
    "    P_o5 = P_o4 * np.power((T_o5 / T_o4), (C_p5 / (R * eta_pt)))\n",
    "\n",
    "    # Afterburner outlet, station 6\n",
    "    C_p6 = (gamma_6 * R) / (gamma_6 - 1)\n",
    "    T_o6 = ((1 + f) * T_o5 + ((eta_ab * f * deltahr) / C_p6)) / (1 + f + f_ab)\n",
    "    P_o6 = Pr_ab * P_o5\n",
    "\n",
    "    # Nozzle exit, station e\n",
    "    P_e = P_a\n",
    "    T_e = T_o6 * (1 - eta_n * (1 - np.power((P_e / P_o6), ((gamma_e - 1) / gamma_e))))\n",
    "    C_pe = (gamma_e * R) / (gamma_e - 1)\n",
    "    u_e = np.sqrt(2 * C_pe * (T_o6 - T_e))\n",
    "    ST = (1 + f + f_ab) * u_e - u\n",
    "    TSFC = (f + f_ab) / ST\n",
    "    #eta_th = (((1 + f + f_ab) * np.power(u_e, 2)) - np.power(u, 2)) / ((f + f_ab) * deltahr)\n",
    "    #eta_o = u / (TSFC * deltahr)\n",
    "    #eta_p = eta_o / eta_th\n",
    "    return T_o4, T_o6, ST, TSFC"
   ]
  },
  {
   "cell_type": "code",
   "execution_count": 85,
   "metadata": {},
   "outputs": [
    {
     "name": "stderr",
     "output_type": "stream",
     "text": [
      "C:\\Users\\dell\\AppData\\Local\\Temp\\ipykernel_10840\\3971656331.py:60: RuntimeWarning: divide by zero encountered in double_scalars\n",
      "  T_o4 =  (((f * eta_b * deltahr) / (C_p4 * T_o3)) + 1) / ((f + 1) / T_o3)\n",
      "C:\\Users\\dell\\AppData\\Local\\Temp\\ipykernel_10840\\3971656331.py:60: RuntimeWarning: invalid value encountered in double_scalars\n",
      "  T_o4 =  (((f * eta_b * deltahr) / (C_p4 * T_o3)) + 1) / ((f + 1) / T_o3)\n"
     ]
    },
    {
     "name": "stdout",
     "output_type": "stream",
     "text": [
      "lol u finished chuckin fr\n"
     ]
    }
   ],
   "source": [
    "# Create the solution space for Pr_c, f, and f_ab\n",
    "# got Pr_c range from https://en.wikipedia.org/wiki/Overall_pressure_ratio#Examples (did 10 to 60 for range of Pr_c (subsonic))\n",
    "# got fuel-air ratio ranges from https://en.wikipedia.org/wiki/Jet_engine (did 0.001 to 0.021 for range of f and f_ab)\n",
    "# note: had to decrease Pr_c range to 0 to 50 for supersonic\n",
    "Pr_c = np.linspace(0, 50, 101, endpoint=True)\n",
    "f = np.linspace(0.001, 0.021, 101, endpoint=True)\n",
    "f_ab = np.linspace(0.001, 0.021, 101, endpoint=True)\n",
    "\n",
    "# cols 0-2 : Pr_c, f, f_ab \n",
    "# cols 3-6 : T_o4, T_o6, ST, TSFC\n",
    "o_tj = np.zeros((int(np.power(101,3)), 7))\n",
    "\n",
    "for i in range(101):\n",
    "    for j in range(101):\n",
    "        for k in range(101):\n",
    "            ind = i*10201 + j*101 + k\n",
    "            o_tj[ind, 3], o_tj[ind, 4], o_tj[ind, 5], o_tj[ind, 6] = turbojet_fun(Pr_c[i], f[j], f_ab[k])\n",
    "            o_tj[ind, 0], o_tj[ind, 1], o_tj[ind, 2] = Pr_c[i], f[j], f_ab[k]\n",
    "\n",
    "print(\"Finished creating potential solution space.\")"
   ]
  },
  {
   "cell_type": "code",
   "execution_count": 86,
   "metadata": {},
   "outputs": [],
   "source": [
    "# save to csv (just in case shenanigans happens)\n",
    "jetpro_df = pd.DataFrame(o_tj)\n",
    "jetpro_df.to_csv(\"output_turbojet_supersonic.csv\")"
   ]
  },
  {
   "cell_type": "code",
   "execution_count": 87,
   "metadata": {},
   "outputs": [],
   "source": [
    "# masked constraining based on given operating constraints\n",
    "o_tj_copy = o_tj\n",
    "ST_req = 750\n",
    "row_to_delete = []\n",
    "for row in range(len(o_tj[:,0])):\n",
    "    if (o_tj[row, 3] > 1300 or o_tj[row, 4] > 2200 or o_tj[row, 5] < ST_req or np.isnan(np.sum(o_tj[row,:]))):\n",
    "        row_to_delete.append(row)\n",
    "o_tj_copy = np.delete(o_tj_copy, row_to_delete, axis=0)"
   ]
  },
  {
   "cell_type": "code",
   "execution_count": 89,
   "metadata": {},
   "outputs": [],
   "source": [
    "# save masked array to csv (just in case shenanigans happens)\n",
    "jetpro_df = pd.DataFrame(o_tj_copy)\n",
    "jetpro_df.to_csv(\"output_turbojet_supersonic_masked.csv\")"
   ]
  },
  {
   "cell_type": "code",
   "execution_count": 90,
   "metadata": {},
   "outputs": [
    {
     "name": "stdout",
     "output_type": "stream",
     "text": [
      "idx = 0\n",
      "minimum TSFC = 4.9329079975899494e-05\n",
      "ideal ST = 750.0646681040259\n",
      "ideal Pr_c = 1.5\n",
      "ideal f = 0.02\n",
      "ideal f_ab = 0.017\n"
     ]
    }
   ],
   "source": [
    "# find Pr_c, f, f_ab that produces minimum TSFC\n",
    "min_TSFC_idx = np.argmin(o_tj_copy[:, 6])\n",
    "min_TSFC = o_tj_copy[min_TSFC_idx, 6]\n",
    "ST_ideal = o_tj_copy[min_TSFC_idx, 5]\n",
    "Pr_c_ideal = o_tj_copy[min_TSFC_idx, 0]\n",
    "f_ideal = o_tj_copy[min_TSFC_idx, 1]\n",
    "f_ab_ideal = o_tj_copy[min_TSFC_idx, 2]\n",
    "\n",
    "# create txt file of results\n",
    "with open('turbojet_supersonic_res.txt', 'w') as f:\n",
    "    f.write(\"idx = \" + str(min_TSFC_idx) + \"\\n\")\n",
    "    f.write(\"minimum TSFC = \" + str(min_TSFC) + \"\\n\")\n",
    "    f.write(\"ideal ST = \" + str(ST_ideal) + \"\\n\")\n",
    "    f.write(\"ideal Pr_c = \" + str(Pr_c_ideal) + \"\\n\")\n",
    "    f.write(\"ideal f = \" + str(f_ideal) + \"\\n\")\n",
    "    f.write(\"ideal f_ab = \" + str(f_ab_ideal))\n",
    "\n",
    "print(\"idx = \" + str(min_TSFC_idx))\n",
    "print(\"minimum TSFC = \" + str(min_TSFC))\n",
    "print(\"ideal ST = \" + str(ST_ideal))\n",
    "print(\"ideal Pr_c = \" + str(Pr_c_ideal))\n",
    "print(\"ideal f = \" + str(f_ideal))\n",
    "print(\"ideal f_ab = \" + str(f_ab_ideal))"
   ]
  }
 ],
 "metadata": {
  "kernelspec": {
   "display_name": "Python 3.9.13 ('base')",
   "language": "python",
   "name": "python3"
  },
  "language_info": {
   "codemirror_mode": {
    "name": "ipython",
    "version": 3
   },
   "file_extension": ".py",
   "mimetype": "text/x-python",
   "name": "python",
   "nbconvert_exporter": "python",
   "pygments_lexer": "ipython3",
   "version": "3.9.13"
  },
  "orig_nbformat": 4,
  "vscode": {
   "interpreter": {
    "hash": "f3a52463084db90f96d29dcfcfd9bf276dba3c521d76c4c38c835392b64a093b"
   }
  }
 },
 "nbformat": 4,
 "nbformat_minor": 2
}
